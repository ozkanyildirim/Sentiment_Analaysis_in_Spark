{
  "nbformat": 4,
  "nbformat_minor": 0,
  "metadata": {
    "language_info": {
      "codemirror_mode": {
        "name": "ipython",
        "version": 3
      },
      "file_extension": ".py",
      "mimetype": "text/x-python",
      "name": "python",
      "nbconvert_exporter": "python",
      "pygments_lexer": "ipython3",
      "version": "3.9.5"
    },
    "orig_nbformat": 4,
    "kernelspec": {
      "name": "python3",
      "display_name": "Python 3.9.5 64-bit"
    },
    "interpreter": {
      "hash": "aee8b7b246df8f9039afb4144a1f6fd8d2ca17a180786b69acc140d282b71a49"
    },
    "colab": {
      "name": "ESPRIT_sentiment_analysis_pyspark.ipynb",
      "provenance": [],
      "collapsed_sections": [],
      "include_colab_link": true
    },
    "accelerator": "TPU"
  },
  "cells": [
    {
      "cell_type": "markdown",
      "metadata": {
        "id": "view-in-github",
        "colab_type": "text"
      },
      "source": [
        "<a href=\"https://colab.research.google.com/github/ozkanyildirim/Sentiment_Analaysis_in_Spark/blob/main/ESPRIT_sentiment_analysis_pyspark.ipynb\" target=\"_parent\"><img src=\"https://colab.research.google.com/assets/colab-badge.svg\" alt=\"Open In Colab\"/></a>"
      ]
    },
    {
      "cell_type": "code",
      "metadata": {
        "id": "U7Vld5BTZg6p",
        "colab": {
          "base_uri": "https://localhost:8080/",
          "height": 0
        },
        "outputId": "f8241958-e3b7-492f-ac30-3d36b8a81721"
      },
      "source": [
        "!wget http://setup.johnsnowlabs.com/colab.sh -O - | bash"
      ],
      "execution_count": 1,
      "outputs": [
        {
          "output_type": "stream",
          "text": [
            "--2021-06-30 06:56:11--  http://setup.johnsnowlabs.com/colab.sh\n",
            "Resolving setup.johnsnowlabs.com (setup.johnsnowlabs.com)... 51.158.130.125\n",
            "Connecting to setup.johnsnowlabs.com (setup.johnsnowlabs.com)|51.158.130.125|:80... connected.\n",
            "HTTP request sent, awaiting response... 302 Moved Temporarily\n",
            "Location: https://raw.githubusercontent.com/JohnSnowLabs/spark-nlp/master/scripts/colab_setup.sh [following]\n",
            "--2021-06-30 06:56:12--  https://raw.githubusercontent.com/JohnSnowLabs/spark-nlp/master/scripts/colab_setup.sh\n",
            "Resolving raw.githubusercontent.com (raw.githubusercontent.com)... 185.199.108.133, 185.199.109.133, 185.199.110.133, ...\n",
            "Connecting to raw.githubusercontent.com (raw.githubusercontent.com)|185.199.108.133|:443... connected.\n",
            "HTTP request sent, awaiting response... 200 OK\n",
            "Length: 1608 (1.6K) [text/plain]\n",
            "Saving to: ‘STDOUT’\n",
            "\n",
            "-                   100%[===================>]   1.57K  --.-KB/s    in 0s      \n",
            "\n",
            "2021-06-30 06:56:12 (33.6 MB/s) - written to stdout [1608/1608]\n",
            "\n",
            "setup Colab for PySpark 3.0.3 and Spark NLP 3.1.1\n",
            "Get:1 https://cloud.r-project.org/bin/linux/ubuntu bionic-cran40/ InRelease [3,626 B]\n",
            "Ign:2 https://developer.download.nvidia.com/compute/cuda/repos/ubuntu1804/x86_64  InRelease\n",
            "Get:3 http://security.ubuntu.com/ubuntu bionic-security InRelease [88.7 kB]\n",
            "Ign:4 https://developer.download.nvidia.com/compute/machine-learning/repos/ubuntu1804/x86_64  InRelease\n",
            "Get:5 https://developer.download.nvidia.com/compute/cuda/repos/ubuntu1804/x86_64  Release [697 B]\n",
            "Hit:6 https://developer.download.nvidia.com/compute/machine-learning/repos/ubuntu1804/x86_64  Release\n",
            "Get:7 http://ppa.launchpad.net/c2d4u.team/c2d4u4.0+/ubuntu bionic InRelease [15.9 kB]\n",
            "Get:8 https://developer.download.nvidia.com/compute/cuda/repos/ubuntu1804/x86_64  Release.gpg [836 B]\n",
            "Hit:10 http://archive.ubuntu.com/ubuntu bionic InRelease\n",
            "Get:11 http://archive.ubuntu.com/ubuntu bionic-updates InRelease [88.7 kB]\n",
            "Ign:12 https://developer.download.nvidia.com/compute/cuda/repos/ubuntu1804/x86_64  Packages\n",
            "Get:12 https://developer.download.nvidia.com/compute/cuda/repos/ubuntu1804/x86_64  Packages [634 kB]\n",
            "Hit:13 http://ppa.launchpad.net/cran/libgit2/ubuntu bionic InRelease\n",
            "Get:14 http://ppa.launchpad.net/deadsnakes/ppa/ubuntu bionic InRelease [15.9 kB]\n",
            "Get:15 http://security.ubuntu.com/ubuntu bionic-security/restricted amd64 Packages [473 kB]\n",
            "Get:16 http://archive.ubuntu.com/ubuntu bionic-backports InRelease [74.6 kB]\n",
            "Get:17 http://archive.ubuntu.com/ubuntu bionic-updates/main amd64 Packages [2,656 kB]\n",
            "Get:18 http://ppa.launchpad.net/graphics-drivers/ppa/ubuntu bionic InRelease [21.3 kB]\n",
            "Get:19 http://security.ubuntu.com/ubuntu bionic-security/main amd64 Packages [2,221 kB]\n",
            "Get:20 http://security.ubuntu.com/ubuntu bionic-security/universe amd64 Packages [1,418 kB]\n",
            "Get:21 http://ppa.launchpad.net/c2d4u.team/c2d4u4.0+/ubuntu bionic/main Sources [1,777 kB]\n",
            "Get:22 http://archive.ubuntu.com/ubuntu bionic-updates/restricted amd64 Packages [506 kB]\n",
            "Get:23 http://archive.ubuntu.com/ubuntu bionic-updates/universe amd64 Packages [2,188 kB]\n",
            "Get:24 http://ppa.launchpad.net/c2d4u.team/c2d4u4.0+/ubuntu bionic/main amd64 Packages [909 kB]\n",
            "Get:25 http://ppa.launchpad.net/deadsnakes/ppa/ubuntu bionic/main amd64 Packages [40.9 kB]\n",
            "Get:26 http://ppa.launchpad.net/graphics-drivers/ppa/ubuntu bionic/main amd64 Packages [41.5 kB]\n",
            "Fetched 13.2 MB in 8s (1,593 kB/s)\n",
            "Reading package lists... Done\n",
            "\u001b[K     |████████████████████████████████| 209.1MB 69kB/s \n",
            "\u001b[K     |████████████████████████████████| 51kB 5.5MB/s \n",
            "\u001b[K     |████████████████████████████████| 204kB 44.7MB/s \n",
            "\u001b[?25h  Building wheel for pyspark (setup.py) ... \u001b[?25l\u001b[?25hdone\n"
          ],
          "name": "stdout"
        }
      ]
    },
    {
      "cell_type": "markdown",
      "metadata": {
        "id": "lPxbbRL6ZdHB"
      },
      "source": [
        "# Sentiment Analysis ESPRIT"
      ]
    },
    {
      "cell_type": "markdown",
      "metadata": {
        "id": "Uv6ejDpmVvPk"
      },
      "source": [
        "Project Goal: Our goal is to build models with high accuracy to make correct predictions regarding given customer comments, whether they are positive or negative.\n",
        "\n",
        "Data: **train data product reviews.csv** and **test data product reviews.csv** text data consisting of comments and bicathegorical labels.\n",
        "\n",
        "Table of contents\n",
        "\n",
        "1. Exploratory Data Analaysis (Preparing Train and Test Data)\n",
        "> I. Initials <br> \n",
        "> II. Data Preparation <br> \n",
        "> III. Data Visualisation <br> \n",
        "2. Sentiment Analysis\n",
        "> I. Logistic Regression and Naive Bayes with CountVectorizer <br> \n",
        "> II. Logistic Regression and Naive Bayes with TFIDF<br> \n",
        "> III. Universal Sentence Encoder <br> \n",
        "\n",
        "3. Conclusion\n",
        "\n",
        "\n",
        "\n",
        "\n",
        "\n",
        "\n",
        "\n",
        "\n",
        "\n",
        "\n"
      ]
    },
    {
      "cell_type": "markdown",
      "metadata": {
        "id": "vIyEXymmaXuL"
      },
      "source": [
        "## 1. Exploratory Data Analysis (Preparing Train and Test Data)"
      ]
    },
    {
      "cell_type": "markdown",
      "metadata": {
        "id": "tum--aDgbeec"
      },
      "source": [
        "> ### I.  Initials"
      ]
    },
    {
      "cell_type": "markdown",
      "metadata": {
        "id": "_JsBmi2osBAT"
      },
      "source": [
        ">> a. Importing Initial Modules"
      ]
    },
    {
      "cell_type": "code",
      "metadata": {
        "id": "FG_3zMIOY26q"
      },
      "source": [
        "# general purpose modules\n",
        "import pandas as pd\n",
        "import numpy as np\n",
        "import matplotlib.pyplot as plt\n",
        "import seaborn as sns\n",
        "\n",
        "import os\n",
        "import sys\n",
        "\n",
        "# pyspark modules\n",
        "import pyspark\n",
        "from pyspark import SparkContext\n",
        "from pyspark.sql.types import *\n",
        "from pyspark.sql.functions import *\n",
        "from sparknlp.annotator import *\n",
        "from sparknlp.common import *\n",
        "from sparknlp.base import *\n",
        "\n",
        "from pyspark.ml.evaluation import MulticlassClassificationEvaluator\n",
        "from sklearn.metrics import confusion_matrix, classification_report, accuracy_score\n",
        "from pyspark.ml.feature import CountVectorizer, HashingTF, IDF, OneHotEncoder, StringIndexer, VectorAssembler, SQLTransformer\n",
        "\n",
        "# spark nlp modules\n",
        "import sparknlp\n",
        "\n"
      ],
      "execution_count": 22,
      "outputs": []
    },
    {
      "cell_type": "markdown",
      "metadata": {
        "id": "7sCpNPlvd5oB"
      },
      "source": [
        ">> b.  Starting a Pyspark Session"
      ]
    },
    {
      "cell_type": "code",
      "metadata": {
        "id": "o6b2M980tsod",
        "colab": {
          "base_uri": "https://localhost:8080/",
          "height": 0
        },
        "outputId": "a11c87f7-a689-4710-a048-067b5e4ec22f"
      },
      "source": [
        "spark = sparknlp.start()\n",
        "\n",
        "print(\"Spark NLP version: \", sparknlp.version())\n",
        "print(\"Apache Spark version: \", spark.version)"
      ],
      "execution_count": 3,
      "outputs": [
        {
          "output_type": "stream",
          "text": [
            "Spark NLP version:  3.1.1\n",
            "Apache Spark version:  3.0.3\n"
          ],
          "name": "stdout"
        }
      ]
    },
    {
      "cell_type": "markdown",
      "metadata": {
        "id": "54ocImEdsdzp"
      },
      "source": [
        "> ### II.  Data Preparation"
      ]
    },
    {
      "cell_type": "markdown",
      "metadata": {
        "id": "yNvEeZwnekzL"
      },
      "source": [
        ">> a.  Retrieving Train Data"
      ]
    },
    {
      "cell_type": "code",
      "metadata": {
        "id": "Tt0eWvZCY26t",
        "colab": {
          "base_uri": "https://localhost:8080/",
          "height": 0
        },
        "outputId": "80f366e0-f3e5-4ca6-e456-b6a945ef6b7f"
      },
      "source": [
        "comments_train = spark.read.options(delimiter=';').csv('train data product reviews.csv', inferSchema=True, header=True)\n",
        "comments_train.show(truncate=True, n=5)\n",
        "comments_train.count(), comments_train.select('label').distinct().count()"
      ],
      "execution_count": 4,
      "outputs": [
        {
          "output_type": "stream",
          "text": [
            "+-----+--------------------+\n",
            "|label|                text|\n",
            "+-----+--------------------+\n",
            "|    0|\"Reference Yes, L...|\n",
            "|    0|NO!!!!!!I will gi...|\n",
            "|    0|Neat Features/Unc...|\n",
            "|    1|\"Progressive-Unde...|\n",
            "|    0|\"The theif who st...|\n",
            "+-----+--------------------+\n",
            "only showing top 5 rows\n",
            "\n"
          ],
          "name": "stdout"
        },
        {
          "output_type": "execute_result",
          "data": {
            "text/plain": [
              "(51979, 2)"
            ]
          },
          "metadata": {
            "tags": []
          },
          "execution_count": 4
        }
      ]
    },
    {
      "cell_type": "markdown",
      "metadata": {
        "id": "88Zxwf2RY26u"
      },
      "source": [
        "In 'label' column we have 0's and 1's only. Let's rearrange this data frame as *df_train*."
      ]
    },
    {
      "cell_type": "code",
      "metadata": {
        "id": "cmJ8jkfMY26v",
        "colab": {
          "base_uri": "https://localhost:8080/",
          "height": 0
        },
        "outputId": "f18f7a9e-b796-4650-f309-bb60d0319e85"
      },
      "source": [
        "df_train = comments_train.select('text', 'label')\n",
        "df_train.show(truncate=True, n=5)\n",
        "df_train.groupBy('label').count().show()"
      ],
      "execution_count": 5,
      "outputs": [
        {
          "output_type": "stream",
          "text": [
            "+--------------------+-----+\n",
            "|                text|label|\n",
            "+--------------------+-----+\n",
            "|\"Reference Yes, L...|    0|\n",
            "|NO!!!!!!I will gi...|    0|\n",
            "|Neat Features/Unc...|    0|\n",
            "|\"Progressive-Unde...|    1|\n",
            "|\"The theif who st...|    0|\n",
            "+--------------------+-----+\n",
            "only showing top 5 rows\n",
            "\n",
            "+-----+-----+\n",
            "|label|count|\n",
            "+-----+-----+\n",
            "|    1|37294|\n",
            "|    0|14685|\n",
            "+-----+-----+\n",
            "\n"
          ],
          "name": "stdout"
        }
      ]
    },
    {
      "cell_type": "code",
      "metadata": {
        "colab": {
          "base_uri": "https://localhost:8080/",
          "height": 0
        },
        "id": "DP2qC4ibVZcC",
        "outputId": "0698e463-278a-4336-f839-735a8ce9a80d"
      },
      "source": [
        "df_train.describe().show()"
      ],
      "execution_count": 6,
      "outputs": [
        {
          "output_type": "stream",
          "text": [
            "+-------+--------------------+------------------+\n",
            "|summary|                text|             label|\n",
            "+-------+--------------------+------------------+\n",
            "|  count|               51979|             51979|\n",
            "|   mean|                 1.0|0.7174820600627176|\n",
            "| stddev|                 NaN|0.4502282235795239|\n",
            "|    min|!!!!!: the song B...|                 0|\n",
            "|    max|ƒ∞t is cheap tabl...|                 1|\n",
            "+-------+--------------------+------------------+\n",
            "\n"
          ],
          "name": "stdout"
        }
      ]
    },
    {
      "cell_type": "code",
      "metadata": {
        "colab": {
          "base_uri": "https://localhost:8080/",
          "height": 0
        },
        "id": "LvTS15kIKCUH",
        "outputId": "46b662b2-5ce0-4b82-a2b2-2edb49303352"
      },
      "source": [
        "def balance_check(df, col='label'):\n",
        "  \"\"\"\n",
        "  Checks the balance of data regarding labels and displays.\n",
        "  df: data frame\n",
        "  col: string column\n",
        "  \"\"\"\n",
        "  positive = df.where(df.label == '1').count()\n",
        "  negative = df.where(df.label == '0').count()\n",
        "  pos_percent = 100 * positive/(positive + negative)\n",
        "  neg_percent = 100 * negative/(positive + negative)\n",
        "  print(f'Positive Comments: {positive} which is %{pos_percent}')\n",
        "  print(f'Negative Comments: {negative} which is %{neg_percent}')\n",
        "\n",
        "balance_check(df_train)"
      ],
      "execution_count": 7,
      "outputs": [
        {
          "output_type": "stream",
          "text": [
            "Positive Comments: 37294 which is %71.74820600627176\n",
            "Negative Comments: 14685 which is %28.251793993728235\n"
          ],
          "name": "stdout"
        }
      ]
    },
    {
      "cell_type": "markdown",
      "metadata": {
        "id": "plvshF7MNQNF"
      },
      "source": [
        "Given the distribution of the comments in training data we have a relative unbalanced data (~ 0.28 - 0.72). Before deciding whether applying a downsizing or upsizing technique, let's first check whether do we have duplications in the training data."
      ]
    },
    {
      "cell_type": "code",
      "metadata": {
        "colab": {
          "base_uri": "https://localhost:8080/",
          "height": 0
        },
        "id": "IFnyj8TbSJDc",
        "outputId": "ed2685d7-49b5-44cb-aad4-33735632b21e"
      },
      "source": [
        "import pyspark.sql.functions as funcs\n",
        "df_train.groupBy(df_train.text)\\\n",
        "    .count()\\\n",
        "    .where(funcs.col('count') > 1)\\\n",
        "    .select(funcs.sum('count'))\\\n",
        "    .show()"
      ],
      "execution_count": 8,
      "outputs": [
        {
          "output_type": "stream",
          "text": [
            "+----------+\n",
            "|sum(count)|\n",
            "+----------+\n",
            "|     14143|\n",
            "+----------+\n",
            "\n"
          ],
          "name": "stdout"
        }
      ]
    },
    {
      "cell_type": "markdown",
      "metadata": {
        "id": "qE5Wbe1PWdjP"
      },
      "source": [
        "Let's drop the duplicated rows and keep only the first occurences."
      ]
    },
    {
      "cell_type": "code",
      "metadata": {
        "colab": {
          "base_uri": "https://localhost:8080/",
          "height": 0
        },
        "id": "36o3jDvKW2G7",
        "outputId": "c753958d-ec7b-456e-b79c-83cd6943aba5"
      },
      "source": [
        "df_train = df_train.dropDuplicates((['text']))\n",
        "balance_check(df_train)"
      ],
      "execution_count": 9,
      "outputs": [
        {
          "output_type": "stream",
          "text": [
            "Positive Comments: 29454 which is %67.19441529406397\n",
            "Negative Comments: 14380 which is %32.805584705936035\n"
          ],
          "name": "stdout"
        }
      ]
    },
    {
      "cell_type": "markdown",
      "metadata": {
        "id": "hFlN0d8OXTYi"
      },
      "source": [
        "After removing the duplications, the distribution of comments in the training data changed slightly to the positive (more balanced ~ 0.33 - 0.67). For now, we keep the data in this distribution and do not apply any downsizing or upsizing technique (or generation), but we use the F1 score as a performance metric to avoid being biased by the data distribution."
      ]
    },
    {
      "cell_type": "markdown",
      "metadata": {
        "id": "sI3aj_VWY26w"
      },
      "source": [
        "Now we are going to maintain a *df_test* similar to *df_train*."
      ]
    },
    {
      "cell_type": "markdown",
      "metadata": {
        "id": "df6JNFjJtH6T"
      },
      "source": [
        ">> b.  Retrieving Test Data"
      ]
    },
    {
      "cell_type": "code",
      "metadata": {
        "id": "SJryBbfzY26w",
        "colab": {
          "base_uri": "https://localhost:8080/",
          "height": 0
        },
        "outputId": "3fd868b8-910f-4b61-f2a0-ba87a597bddd"
      },
      "source": [
        "comments_test = spark.read.options(delimiter=';').csv('test data product reviews.csv', inferSchema=True, header=True)\n",
        "comments_test.show(truncate=True, n=5)\n",
        "comments_test.count()"
      ],
      "execution_count": 10,
      "outputs": [
        {
          "output_type": "stream",
          "text": [
            "+--------------------+\n",
            "|          label,text|\n",
            "+--------------------+\n",
            "|0,Not worth the m...|\n",
            "|\"0,\"\"I changed my...|\n",
            "|\"0,\"\"How quickly ...|\n",
            "|0,DOA Did Not Pow...|\n",
            "|\"0,\"\"support: I o...|\n",
            "+--------------------+\n",
            "only showing top 5 rows\n",
            "\n"
          ],
          "name": "stdout"
        },
        {
          "output_type": "execute_result",
          "data": {
            "text/plain": [
              "11703"
            ]
          },
          "metadata": {
            "tags": []
          },
          "execution_count": 10
        }
      ]
    },
    {
      "cell_type": "markdown",
      "metadata": {
        "id": "n5YN-XmqY26x"
      },
      "source": [
        "We are going to use *regex* to describe patters to obtain a clean data frame with columns text and label."
      ]
    },
    {
      "cell_type": "code",
      "metadata": {
        "id": "rAQtHWMeY26y",
        "colab": {
          "base_uri": "https://localhost:8080/",
          "height": 0
        },
        "outputId": "6f9e8763-f54f-4c1f-b055-29adafe3010a"
      },
      "source": [
        "regex_pattern = r'\"*([01])(.+)'\n",
        "comments_test = comments_test.withColumn('text', regexp_extract(col('label,text'), regex_pattern, 2))\\\n",
        "                 .withColumn('label', regexp_extract(col('label,text'), regex_pattern, 1))\n",
        "df_test = comments_test.select('text', 'label')\n",
        "df_test.show(truncate=True, n=5)\n",
        "df_test.count(), df_test.select('label').distinct().count()"
      ],
      "execution_count": 11,
      "outputs": [
        {
          "output_type": "stream",
          "text": [
            "+--------------------+-----+\n",
            "|                text|label|\n",
            "+--------------------+-----+\n",
            "|,Not worth the mo...|    0|\n",
            "|,\"\"I changed my m...|    0|\n",
            "|,\"\"How quickly we...|    0|\n",
            "|,DOA Did Not Powe...|    0|\n",
            "|,\"\"support: I ord...|    0|\n",
            "+--------------------+-----+\n",
            "only showing top 5 rows\n",
            "\n"
          ],
          "name": "stdout"
        },
        {
          "output_type": "execute_result",
          "data": {
            "text/plain": [
              "(11703, 2)"
            ]
          },
          "metadata": {
            "tags": []
          },
          "execution_count": 11
        }
      ]
    },
    {
      "cell_type": "code",
      "metadata": {
        "colab": {
          "base_uri": "https://localhost:8080/",
          "height": 0
        },
        "id": "HN_lvDlaYxfk",
        "outputId": "f7e0ebb9-bcb7-40c0-9263-842530d612a8"
      },
      "source": [
        "import pyspark.sql.functions as funcs\n",
        "df_test.groupBy(df_test.text)\\\n",
        "    .count()\\\n",
        "    .where(funcs.col('count') > 1)\\\n",
        "    .select(funcs.sum('count'))\\\n",
        "    .show()"
      ],
      "execution_count": 12,
      "outputs": [
        {
          "output_type": "stream",
          "text": [
            "+----------+\n",
            "|sum(count)|\n",
            "+----------+\n",
            "|      null|\n",
            "+----------+\n",
            "\n"
          ],
          "name": "stdout"
        }
      ]
    },
    {
      "cell_type": "code",
      "metadata": {
        "colab": {
          "base_uri": "https://localhost:8080/",
          "height": 0
        },
        "id": "bgIqCGX6ZC29",
        "outputId": "61c4e214-5362-4754-a6f7-6d9c08bd7ff5"
      },
      "source": [
        "balance_check(df_test)"
      ],
      "execution_count": 13,
      "outputs": [
        {
          "output_type": "stream",
          "text": [
            "Positive Comments: 5819 which is %49.72229342903529\n",
            "Negative Comments: 5884 which is %50.27770657096471\n"
          ],
          "name": "stdout"
        }
      ]
    },
    {
      "cell_type": "markdown",
      "metadata": {
        "id": "hGx69lH8Yzln"
      },
      "source": [
        "Apparently we do not have duplications in test data. And our test data is balanced."
      ]
    },
    {
      "cell_type": "markdown",
      "metadata": {
        "id": "hQbwxIa6Y260"
      },
      "source": [
        "Now that we have both *df_train* and *df_test* in our targetted composition, we can progress with data visualisation and finally the **Sentiment Analysis**."
      ]
    },
    {
      "cell_type": "markdown",
      "metadata": {
        "id": "aBkUebbKtUn5"
      },
      "source": [
        "> ### III. Data Visualisation"
      ]
    },
    {
      "cell_type": "code",
      "metadata": {
        "id": "zQxujkfN07GY"
      },
      "source": [
        "import plotly.express as px"
      ],
      "execution_count": 14,
      "outputs": []
    },
    {
      "cell_type": "code",
      "metadata": {
        "id": "-aOSGjXg-COk"
      },
      "source": [
        "df_viz_train = df_train.toPandas()\n",
        "df_viz_train.to_csv('train_viz', sep='\\t', encoding='utf-8', index=False)\n",
        "df_viz_test = df_train.toPandas()\n",
        "df_viz_test.to_csv('test_viz', sep='\\t', encoding='utf-8', index=False)"
      ],
      "execution_count": 15,
      "outputs": []
    },
    {
      "cell_type": "code",
      "metadata": {
        "colab": {
          "base_uri": "https://localhost:8080/",
          "height": 204
        },
        "id": "wcS1ff4CBIjd",
        "outputId": "e210105c-b81a-4961-ef21-7af116dd5896"
      },
      "source": [
        "# length of comment\n",
        "df_viz_train['length'] = df_viz_train.text.apply(lambda x: len(x))\n",
        "df_viz_train.head()\n",
        "df_viz_test['length'] = df_viz_test.text.apply(lambda x: len(x))\n",
        "df_viz_train.head()"
      ],
      "execution_count": 16,
      "outputs": [
        {
          "output_type": "execute_result",
          "data": {
            "text/html": [
              "<div>\n",
              "<style scoped>\n",
              "    .dataframe tbody tr th:only-of-type {\n",
              "        vertical-align: middle;\n",
              "    }\n",
              "\n",
              "    .dataframe tbody tr th {\n",
              "        vertical-align: top;\n",
              "    }\n",
              "\n",
              "    .dataframe thead th {\n",
              "        text-align: right;\n",
              "    }\n",
              "</style>\n",
              "<table border=\"1\" class=\"dataframe\">\n",
              "  <thead>\n",
              "    <tr style=\"text-align: right;\">\n",
              "      <th></th>\n",
              "      <th>text</th>\n",
              "      <th>label</th>\n",
              "      <th>length</th>\n",
              "    </tr>\n",
              "  </thead>\n",
              "  <tbody>\n",
              "    <tr>\n",
              "      <th>0</th>\n",
              "      <td>This is a horrible clock!: I had this clock fo...</td>\n",
              "      <td>0</td>\n",
              "      <td>322</td>\n",
              "    </tr>\n",
              "    <tr>\n",
              "      <th>1</th>\n",
              "      <td>Roll On Texas Moon: I especially like Roy Roge...</td>\n",
              "      <td>1</td>\n",
              "      <td>451</td>\n",
              "    </tr>\n",
              "    <tr>\n",
              "      <th>2</th>\n",
              "      <td>A total waste: My cat's been on this spot for ...</td>\n",
              "      <td>0</td>\n",
              "      <td>234</td>\n",
              "    </tr>\n",
              "    <tr>\n",
              "      <th>3</th>\n",
              "      <td>On site image does not match figure: I'm a tad...</td>\n",
              "      <td>0</td>\n",
              "      <td>280</td>\n",
              "    </tr>\n",
              "    <tr>\n",
              "      <th>4</th>\n",
              "      <td>Should be made into a movie.: In this action a...</td>\n",
              "      <td>1</td>\n",
              "      <td>310</td>\n",
              "    </tr>\n",
              "  </tbody>\n",
              "</table>\n",
              "</div>"
            ],
            "text/plain": [
              "                                                text  label  length\n",
              "0  This is a horrible clock!: I had this clock fo...      0     322\n",
              "1  Roll On Texas Moon: I especially like Roy Roge...      1     451\n",
              "2  A total waste: My cat's been on this spot for ...      0     234\n",
              "3  On site image does not match figure: I'm a tad...      0     280\n",
              "4  Should be made into a movie.: In this action a...      1     310"
            ]
          },
          "metadata": {
            "tags": []
          },
          "execution_count": 16
        }
      ]
    },
    {
      "cell_type": "code",
      "metadata": {
        "colab": {
          "base_uri": "https://localhost:8080/",
          "height": 403
        },
        "id": "1CU-hRTcJdgQ",
        "outputId": "139527c4-5247-488e-b32f-8ce499066ba4"
      },
      "source": [
        "sns.displot(data=df_viz_train, x='label', y='length')\n",
        "plt.xticks([0,1], ['negative', 'positive'], rotation='vertical')\n",
        "plt.show()"
      ],
      "execution_count": 17,
      "outputs": [
        {
          "output_type": "display_data",
          "data": {
            "image/png": "[encoded data removed]",
            "text/plain": [
              "<Figure size 360x360 with 1 Axes>"
            ]
          },
          "metadata": {
            "tags": [],
            "needs_background": "light"
          }
        }
      ]
    },
    {
      "cell_type": "code",
      "metadata": {
        "id": "O1v_YEGGOGOe"
      },
      "source": [
        "def clean_token_extractor(df):\n",
        "\n",
        "    '''\n",
        "    Returns three pandas Data Frames (for positive and negative comments seperately \n",
        "    and also all comments) with columns ['label', 'result'],\n",
        "    where 'result' contains cleaned tokens of words.\n",
        "    ''' \n",
        "    %%time\n",
        "    document_assembler = DocumentAssembler()\\\n",
        "          .setInputCol(\"text\")\\\n",
        "          .setOutputCol(\"document\")\n",
        "\n",
        "    tokenizer = Tokenizer()\\\n",
        "          .setInputCols([\"document\"])\\\n",
        "          .setOutputCol(\"token\")\n",
        "\n",
        "    normalizer = Normalizer()\\\n",
        "          .setInputCols([\"token\"])\\\n",
        "          .setOutputCol(\"normalized\")\n",
        "\n",
        "    stopwords_cleaner = StopWordsCleaner()\\\n",
        "          .setInputCols(\"normalized\")\\\n",
        "          .setOutputCol(\"cleanTokens\")\\\n",
        "          .setCaseSensitive(False)\n",
        "\n",
        "    pipe_viz = Pipeline(\n",
        "        stages=[document_assembler,\n",
        "                tokenizer,\n",
        "                normalizer,\n",
        "                stopwords_cleaner\n",
        "                ])\n",
        "\n",
        "    model_viz = pipe_viz.fit(df)\n",
        "    df_viz = model_viz.transform(df)\n",
        "\n",
        "    df_viz_all = df_viz.select('label','cleanTokens.result').toPandas()\n",
        "    df_viz_poz = df_viz_all[df_viz_all['label'] == 1]\n",
        "    df_viz_neg = df_viz_all[df_viz_all['label'] == 0]\n",
        "    return df_viz_poz, df_viz_neg, df_viz_all"
      ],
      "execution_count": 45,
      "outputs": []
    },
    {
      "cell_type": "code",
      "metadata": {
        "colab": {
          "base_uri": "https://localhost:8080/",
          "height": 0
        },
        "id": "Tx8n8T1kUhFl",
        "outputId": "a67927ad-8771-4230-d335-387bf511b3da"
      },
      "source": [
        "df_viz_train_pos, df_viz_train_neg, df_viz_train = clean_token_extractor(df_train)\n",
        "df_viz_test_pos, df_viz_test_neg, df_viz_test = clean_token_extractor(df_test)"
      ],
      "execution_count": 46,
      "outputs": [
        {
          "output_type": "stream",
          "text": [
            "CPU times: user 2 µs, sys: 0 ns, total: 2 µs\n",
            "Wall time: 6.2 µs\n",
            "CPU times: user 2 µs, sys: 1 µs, total: 3 µs\n",
            "Wall time: 5.01 µs\n"
          ],
          "name": "stdout"
        }
      ]
    },
    {
      "cell_type": "code",
      "metadata": {
        "id": "mivjBXzYaM5e"
      },
      "source": [
        "def word_bag(df, col = 'result'):\n",
        "  \n",
        "    \"\"\"\n",
        "    Counts each word in a data frame and returns counts of each word in a \n",
        "    Pandas Data Frame\n",
        "    col: feature (each row list of strings)\n",
        "    \"\"\" \n",
        "    full_list = []  \n",
        "    for elmnt in df[col]:  \n",
        "        full_list += elmnt  \n",
        "\n",
        "    val_counts = pd.Series(full_list).value_counts()\n",
        "    df_words = pd.DataFrame(val_counts).reset_index().rename(columns={'index':'word', 0:'word_count'}).sort_values(by='word_count', ascending=False)\n",
        "    return df_words"
      ],
      "execution_count": 47,
      "outputs": []
    },
    {
      "cell_type": "code",
      "metadata": {
        "id": "9g523wO-pnw_"
      },
      "source": [
        "df_words_all = word_bag(df_viz_train)\n",
        "df_words_pos = word_bag(df_viz_train_pos)\n",
        "df_words_neg = word_bag(df_viz_train_neg)"
      ],
      "execution_count": 48,
      "outputs": []
    },
    {
      "cell_type": "code",
      "metadata": {
        "id": "oT9VdL_hpgrW"
      },
      "source": [
        "def word_displayer(df, n=20, stat='positive'):\n",
        "    '''\n",
        "    Visualise most frequent words in a Pandas Data Frame.\n",
        "    stat: 'positive', 'negative', 'all'\n",
        "    n: most frequent n words\n",
        "    '''\n",
        "    f, ax = plt.subplots(figsize=(10, 10))\n",
        "    sns.set_color_codes(\"pastel\")\n",
        "    sns.barplot(x=\"word_count\", y=\"word\", data=df.iloc[0:n,:],\n",
        "                label=\"Total\", color=\"b\")\n",
        "    ax.set(xlim=(100), ylabel=\"\",\n",
        "          xlabel=f\"Number of Words\")\n",
        "    ax.set_title(f'{stat.upper()} COMMENTS')"
      ],
      "execution_count": 49,
      "outputs": []
    },
    {
      "cell_type": "code",
      "metadata": {
        "colab": {
          "base_uri": "https://localhost:8080/",
          "height": 621
        },
        "id": "j9Xo5jrXrAfm",
        "outputId": "2400e779-3636-4c1d-85a1-f6b4b01e099d"
      },
      "source": [
        "word_displayer(df=df_words_all, n=20, stat='all')"
      ],
      "execution_count": 50,
      "outputs": [
        {
          "output_type": "display_data",
          "data": {
            "image/png": "[encoded data removed]",
            "text/plain": [
              "<Figure size 720x720 with 1 Axes>"
            ]
          },
          "metadata": {
            "tags": [],
            "needs_background": "light"
          }
        }
      ]
    },
    {
      "cell_type": "code",
      "metadata": {
        "colab": {
          "base_uri": "https://localhost:8080/",
          "height": 621
        },
        "id": "LbVBuminvr41",
        "outputId": "dd09448b-916f-4724-c4f7-8d88f013e644"
      },
      "source": [
        "word_displayer(df=df_words_neg, n=20, stat='negative')"
      ],
      "execution_count": 51,
      "outputs": [
        {
          "output_type": "display_data",
          "data": {
            "image/png": "[encoded data removed]",
            "text/plain": [
              "<Figure size 720x720 with 1 Axes>"
            ]
          },
          "metadata": {
            "tags": [],
            "needs_background": "light"
          }
        }
      ]
    },
    {
      "cell_type": "code",
      "metadata": {
        "colab": {
          "base_uri": "https://localhost:8080/",
          "height": 621
        },
        "id": "pqoIIh5iybrv",
        "outputId": "4822c506-4a5e-4c47-89a0-aedbd8ca155f"
      },
      "source": [
        "word_displayer(df=df_words_pos, n=20, stat='positive')"
      ],
      "execution_count": 52,
      "outputs": [
        {
          "output_type": "display_data",
          "data": {
            "image/png": "[encoded data removed]",
            "text/plain": [
              "<Figure size 720x720 with 1 Axes>"
            ]
          },
          "metadata": {
            "tags": [],
            "needs_background": "light"
          }
        }
      ]
    },
    {
      "cell_type": "markdown",
      "metadata": {
        "id": "U2ncjC1PZ9zw"
      },
      "source": [
        "## 2. Sentiment Analysis"
      ]
    },
    {
      "cell_type": "code",
      "metadata": {
        "id": "LpSJgnqxkt4t"
      },
      "source": [
        "from sparknlp.annotator import *\n",
        "from sparknlp.common import *\n",
        "from sparknlp.base import *\n",
        "\n",
        "from pyspark.ml.evaluation import MulticlassClassificationEvaluator\n",
        "from sklearn.metrics import confusion_matrix, classification_report, accuracy_score"
      ],
      "execution_count": 53,
      "outputs": []
    },
    {
      "cell_type": "markdown",
      "metadata": {
        "id": "ToEYKcCQmSz7"
      },
      "source": [
        "> ### I.  Logistic Regression and Naive Bayes with **CountVectorizer**"
      ]
    },
    {
      "cell_type": "markdown",
      "metadata": {
        "id": "aqTwqa-_jdb8"
      },
      "source": [
        ">> i. Building Pipeline\n",
        "\n"
      ]
    },
    {
      "cell_type": "code",
      "metadata": {
        "id": "SnsGnbzfmeNm"
      },
      "source": [
        "!wget -q https://raw.githubusercontent.com/mahavivo/vocabulary/master/lemmas/AntBNC_lemmas_ver_001.txt\n",
        "from pyspark.ml.feature import CountVectorizer, HashingTF, IDF, OneHotEncoder, StringIndexer, VectorAssembler, SQLTransformer\n",
        "from pyspark.ml.classification import LogisticRegression, NaiveBayes"
      ],
      "execution_count": 54,
      "outputs": []
    },
    {
      "cell_type": "code",
      "metadata": {
        "id": "BKHyFGc-m2Eb",
        "colab": {
          "base_uri": "https://localhost:8080/",
          "height": 0
        },
        "outputId": "76e82b40-c979-436b-e951-247924d05daf"
      },
      "source": [
        "%%time\n",
        "\n",
        "document_assembler = DocumentAssembler()\\\n",
        "      .setInputCol(\"text\")\\\n",
        "      .setOutputCol(\"document\")\n",
        "\n",
        "sentence = SentenceDetector()\\\n",
        "      .setInputCols(\"document\")\\\n",
        "      .setOutputCol(\"sentence\")\n",
        "\n",
        "tokenizer = Tokenizer()\\\n",
        "      .setInputCols([\"sentence\"])\\\n",
        "      .setOutputCol(\"token\")\n",
        "\n",
        "normalizer = Normalizer()\\\n",
        "      .setInputCols([\"token\"])\\\n",
        "      .setOutputCol(\"normalized\")\n",
        "\n",
        "stopwords_cleaner = StopWordsCleaner()\\\n",
        "      .setInputCols(\"normalized\")\\\n",
        "      .setOutputCol(\"cleanTokens\")\\\n",
        "      .setCaseSensitive(False)\n",
        "\n",
        "\n",
        "stemmer = Stemmer()\\\n",
        "      .setInputCols([\"cleanTokens\"])\\\n",
        "      .setOutputCol(\"stem\")\n",
        "\n",
        "finisher = Finisher()\\\n",
        "      .setInputCols([\"stem\"])\\\n",
        "      .setOutputCols([\"token_features\"])\\\n",
        "      .setOutputAsArray(True)\\\n",
        "      .setCleanAnnotations(False)\n",
        "\n",
        "label_strIdx = StringIndexer(inputCol='label', outputCol='target')\n",
        "logReg = LogisticRegression(maxIter=5, regParam=0.01)\n",
        "naiveBayes = NaiveBayes(smoothing=5)\n",
        "countVectors = CountVectorizer(inputCol=\"token_features\", outputCol=\"features\", vocabSize=10000, minDF=5)\n"
      ],
      "execution_count": 73,
      "outputs": [
        {
          "output_type": "stream",
          "text": [
            "CPU times: user 23.8 ms, sys: 5.15 ms, total: 28.9 ms\n",
            "Wall time: 89.2 ms\n"
          ],
          "name": "stdout"
        }
      ]
    },
    {
      "cell_type": "markdown",
      "metadata": {
        "id": "0rX-T4nVlG4W"
      },
      "source": [
        ">> ii. Forming Pipelines"
      ]
    },
    {
      "cell_type": "code",
      "metadata": {
        "id": "v0nXg0QYu3aC"
      },
      "source": [
        "# Pipeline for Logistic Regression with CountVectorizer\n",
        "nlp_pipeline_cv_lr = Pipeline(\n",
        "    stages=[document_assembler,\n",
        "            sentence,\n",
        "            tokenizer,\n",
        "            normalizer,\n",
        "            stopwords_cleaner, \n",
        "            stemmer, \n",
        "            finisher,\n",
        "            countVectors,\n",
        "            logReg\n",
        "            ])\n",
        "\n",
        "# Pipeline for Naive Bayes with CountVectorizer\n",
        "nlp_pipeline_cv_nb = Pipeline(\n",
        "    stages=[document_assembler,\n",
        "            sentence,\n",
        "            tokenizer,\n",
        "            normalizer,\n",
        "            stopwords_cleaner, \n",
        "            stemmer, \n",
        "            finisher,\n",
        "            countVectors,\n",
        "            naiveBayes\n",
        "            ])"
      ],
      "execution_count": 74,
      "outputs": []
    },
    {
      "cell_type": "markdown",
      "metadata": {
        "id": "-Kh_CEDLfvzh"
      },
      "source": [
        "\n",
        ">> iii. Logistic Regression with CountVectorizer"
      ]
    },
    {
      "cell_type": "markdown",
      "metadata": {
        "id": "o17HwXsece77"
      },
      "source": [
        ">>> a. Applying LogReg"
      ]
    },
    {
      "cell_type": "code",
      "metadata": {
        "id": "bSPb0mYKhpZm",
        "colab": {
          "base_uri": "https://localhost:8080/",
          "height": 0
        },
        "outputId": "80c5bbc1-cb91-4f70-b6d0-9f3d1dbe2efd"
      },
      "source": [
        "modelLR = nlp_pipeline_cv_lr.fit(df_train)\n",
        "pred_lr = modelLR.transform(df_test)\n",
        "pred_lr = pred_lr.withColumn('label', pred_lr.label.cast(IntegerType()))\n",
        "pred_lr.filter(pred_lr['prediction'] == 0)\\\n",
        "    .select(\"text\",\"probability\",\"label\",\"prediction\")\\\n",
        "    .orderBy(\"probability\", ascending=False)\\\n",
        "    .show(n = 10, truncate = 30)"
      ],
      "execution_count": 57,
      "outputs": [
        {
          "output_type": "stream",
          "text": [
            "+------------------------------+------------------------------+-----+----------+\n",
            "|                          text|                   probability|label|prediction|\n",
            "+------------------------------+------------------------------+-----+----------+\n",
            "|,\"\"YAWN!!!!: Britney Spears...|[0.9999994581946672,5.41805...|    0|       0.0|\n",
            "|,\"\"A short story gone bad: ...|[0.9999991291536751,8.70846...|    0|       0.0|\n",
            "|,\"\"Warranty is a scam: 3 ou...|[0.999999049021483,9.509785...|    0|       0.0|\n",
            "|,\"\"script full of silliness...|[0.9999988072700032,1.19272...|    0|       0.0|\n",
            "|,\"\"One of the worst movies ...|[0.9999986815536667,1.31844...|    0|       0.0|\n",
            "|,\"\"INCREDIBLY BORING! Dull,...|[0.9999984542080427,1.54579...|    0|       0.0|\n",
            "|,\"\"What a pile of rubbish: ...|[0.9999970628947048,2.93710...|    0|       0.0|\n",
            "|,\"\"Beware: My experience wi...|[0.9999968395463019,3.16045...|    0|       0.0|\n",
            "|,THE WORST TENT MADE DO NOT...|[0.9999963966212103,3.60337...|    0|       0.0|\n",
            "|,\"\"Absolute junk: I'm a rif...|[0.9999955415467052,4.45845...|    0|       0.0|\n",
            "+------------------------------+------------------------------+-----+----------+\n",
            "only showing top 10 rows\n",
            "\n"
          ],
          "name": "stdout"
        }
      ]
    },
    {
      "cell_type": "markdown",
      "metadata": {
        "id": "2kDyh4huoBeN"
      },
      "source": [
        ">>> b. Model Performance"
      ]
    },
    {
      "cell_type": "code",
      "metadata": {
        "id": "0TyxypTfn51g",
        "colab": {
          "base_uri": "https://localhost:8080/",
          "height": 0
        },
        "outputId": "df9ac2ed-0948-47f3-88fc-2802cb1b173f"
      },
      "source": [
        "# Converting pred_lr to pandas data frame in order to using sklearn metrics library\n",
        "df_lr = pred_lr.select('text','label','prediction').toPandas()\n",
        "print(classification_report(df_lr.label, df_lr.prediction))\n",
        "print(accuracy_score(df_lr.label, df_lr.prediction))\n",
        "\n",
        "# Evaluation within the Spark Universe is also possible (for scaling issues)\n",
        "evaluator = MulticlassClassificationEvaluator(labelCol='label',predictionCol=\"prediction\")\n",
        "evaluator.evaluate(pred_lr)"
      ],
      "execution_count": 58,
      "outputs": [
        {
          "output_type": "stream",
          "text": [
            "              precision    recall  f1-score   support\n",
            "\n",
            "           0       0.89      0.78      0.83      5884\n",
            "           1       0.81      0.90      0.85      5819\n",
            "\n",
            "    accuracy                           0.84     11703\n",
            "   macro avg       0.85      0.84      0.84     11703\n",
            "weighted avg       0.85      0.84      0.84     11703\n",
            "\n",
            "0.8438007348543108\n"
          ],
          "name": "stdout"
        },
        {
          "output_type": "execute_result",
          "data": {
            "text/plain": [
              "0.8432768644749363"
            ]
          },
          "metadata": {
            "tags": []
          },
          "execution_count": 58
        }
      ]
    },
    {
      "cell_type": "markdown",
      "metadata": {
        "id": "cS3O0kMGhgeo"
      },
      "source": [
        "\n",
        ">> iv. Naive Bayes with CountVectorizer"
      ]
    },
    {
      "cell_type": "markdown",
      "metadata": {
        "id": "P8RobQnAhgew"
      },
      "source": [
        ">>> a. Applying Naive Bayes"
      ]
    },
    {
      "cell_type": "code",
      "metadata": {
        "colab": {
          "base_uri": "https://localhost:8080/",
          "height": 0
        },
        "id": "m4txcr2rhgew",
        "outputId": "614f87cc-aa67-44f6-ccdc-5b05892a0eec"
      },
      "source": [
        "modelNB = nlp_pipeline_cv_nb.fit(df_train)\n",
        "pred_nb = modelNB.transform(df_test)\n",
        "pred_nb = pred_nb.withColumn('label', pred_nb.label.cast(IntegerType()))\n",
        "pred_nb.filter(pred_nb['prediction'] == 0)\\\n",
        "    .select(\"text\",\"probability\",\"label\",\"prediction\")\\\n",
        "    .orderBy(\"probability\", ascending=False)\\\n",
        "    .show(n = 10, truncate = 30)"
      ],
      "execution_count": 75,
      "outputs": [
        {
          "output_type": "stream",
          "text": [
            "+------------------------------+------------------------------+-----+----------+\n",
            "|                          text|                   probability|label|prediction|\n",
            "+------------------------------+------------------------------+-----+----------+\n",
            "|,\"\"A total waste of money: ...|  [1.0,1.3505219572305778E-17]|    0|       0.0|\n",
            "|,\"\"One of the worst movies ...|[0.9999999999999998,1.54118...|    0|       0.0|\n",
            "|,\"\"I wish I could give this...|[0.9999999999999984,1.58218...|    0|       0.0|\n",
            "|,\"\"Warranty is a scam: 3 ou...|[0.9999999999999982,1.66651...|    0|       0.0|\n",
            "|,\"\"Barely acceptable: I've ...|[0.9999999999999971,2.89542...|    0|       0.0|\n",
            "|,\"\"INCREDIBLY BORING! Dull,...|[0.9999999999999967,3.34011...|    0|       0.0|\n",
            "|,\"\"Horrible Support - Can't...|[0.9999999999999958,4.12120...|    0|       0.0|\n",
            "|,\"\"Horrible software, could...|[0.9999999999999953,4.63413...|    0|       0.0|\n",
            "|,\"\"Unfortunate errors in pr...|[0.9999999999999876,1.24826...|    0|       0.0|\n",
            "|,\"\"Works for a month before...|[0.9999999999999862,1.37769...|    0|       0.0|\n",
            "+------------------------------+------------------------------+-----+----------+\n",
            "only showing top 10 rows\n",
            "\n"
          ],
          "name": "stdout"
        }
      ]
    },
    {
      "cell_type": "markdown",
      "metadata": {
        "id": "8TD2E-8Ihgex"
      },
      "source": [
        ">>> b. Model Performance"
      ]
    },
    {
      "cell_type": "code",
      "metadata": {
        "colab": {
          "base_uri": "https://localhost:8080/",
          "height": 0
        },
        "id": "Jj3TcdCfhgey",
        "outputId": "ba65e730-c161-44b1-bd8c-00c1b195ae50"
      },
      "source": [
        "# Converting pred_nb to pandas data frame in order to using sklearn metrics library\n",
        "df_nb = pred_nb.select('text','label','prediction').toPandas()\n",
        "print(classification_report(df_nb.label, df_nb.prediction))\n",
        "print(accuracy_score(df_nb.label, df_nb.prediction))\n",
        "\n",
        "# Evaluation within the Spark Universe is also possible (for scaling issues)\n",
        "evaluator = MulticlassClassificationEvaluator(labelCol='label',predictionCol=\"prediction\")\n",
        "evaluator.evaluate(pred_nb)"
      ],
      "execution_count": 76,
      "outputs": [
        {
          "output_type": "stream",
          "text": [
            "              precision    recall  f1-score   support\n",
            "\n",
            "           0       0.84      0.86      0.85      5884\n",
            "           1       0.85      0.83      0.84      5819\n",
            "\n",
            "    accuracy                           0.84     11703\n",
            "   macro avg       0.84      0.84      0.84     11703\n",
            "weighted avg       0.84      0.84      0.84     11703\n",
            "\n",
            "0.8430317012731778\n"
          ],
          "name": "stdout"
        },
        {
          "output_type": "execute_result",
          "data": {
            "text/plain": [
              "0.8429951449233859"
            ]
          },
          "metadata": {
            "tags": []
          },
          "execution_count": 76
        }
      ]
    },
    {
      "cell_type": "markdown",
      "metadata": {
        "id": "n8Mxak03k6V8"
      },
      "source": [
        "> ### II.  **TFIDF** Logistic Regression and Naive Bayes"
      ]
    },
    {
      "cell_type": "markdown",
      "metadata": {
        "id": "V3Q2y4Trk6WF"
      },
      "source": [
        ">> i. Building Pipeline\n",
        "\n"
      ]
    },
    {
      "cell_type": "code",
      "metadata": {
        "id": "yPoz2Qa8k6WF"
      },
      "source": [
        "from pyspark.ml.feature import CountVectorizer, HashingTF, IDF, OneHotEncoder, StringIndexer, VectorAssembler, SQLTransformer\n",
        "from pyspark.ml.classification import LogisticRegression, NaiveBayes"
      ],
      "execution_count": 61,
      "outputs": []
    },
    {
      "cell_type": "code",
      "metadata": {
        "colab": {
          "base_uri": "https://localhost:8080/",
          "height": 0
        },
        "id": "TeW-EpNrk6WG",
        "outputId": "abbab874-6dea-49bd-f2db-812ce4a7b65f"
      },
      "source": [
        "%%time\n",
        "document_assembler = DocumentAssembler()\\\n",
        "      .setInputCol(\"text\")\\\n",
        "      .setOutputCol(\"document\")\n",
        "\n",
        "sentence = SentenceDetector()\\\n",
        "      .setInputCols(\"document\")\\\n",
        "      .setOutputCol(\"sentence\")\n",
        "\n",
        "tokenizer = Tokenizer()\\\n",
        "      .setInputCols([\"sentence\"])\\\n",
        "      .setOutputCol(\"token\")\n",
        "\n",
        "normalizer = Normalizer()\\\n",
        "      .setInputCols([\"token\"])\\\n",
        "      .setOutputCol(\"normalized\")\n",
        "\n",
        "stopwords_cleaner = StopWordsCleaner()\\\n",
        "      .setInputCols(\"normalized\")\\\n",
        "      .setOutputCol(\"cleanTokens\")\\\n",
        "      .setCaseSensitive(False)\n",
        "\n",
        "\n",
        "stemmer = Stemmer()\\\n",
        "      .setInputCols([\"cleanTokens\"])\\\n",
        "      .setOutputCol(\"stem\")\n",
        "\n",
        "finisher = Finisher()\\\n",
        "      .setInputCols([\"stem\"])\\\n",
        "      .setOutputCols([\"token_features\"])\\\n",
        "      .setOutputAsArray(True)\\\n",
        "      .setCleanAnnotations(False)\n",
        "\n",
        "hashingTF = HashingTF(inputCol=\"token_features\", outputCol=\"rawFeatures\", numFeatures=10000)\n",
        "idf = IDF(inputCol=\"rawFeatures\", outputCol=\"features\", minDocFreq=5)\n",
        "label_strIdx = StringIndexer(inputCol='label', outputCol='target')\n",
        "logReg = LogisticRegression(maxIter=5, regParam=0.01)\n",
        "naiveBayes = NaiveBayes(smoothing=5)"
      ],
      "execution_count": 62,
      "outputs": [
        {
          "output_type": "stream",
          "text": [
            "CPU times: user 33.7 ms, sys: 10.8 ms, total: 44.5 ms\n",
            "Wall time: 121 ms\n"
          ],
          "name": "stdout"
        }
      ]
    },
    {
      "cell_type": "markdown",
      "metadata": {
        "id": "CclnoSPok6WG"
      },
      "source": [
        ">> ii. Forming Pipelines"
      ]
    },
    {
      "cell_type": "code",
      "metadata": {
        "id": "5iPeU0MVk6WG"
      },
      "source": [
        "# Pipeline for Logistic Regression with TFIDF\n",
        "nlp_pipeline_tf_lr = Pipeline(\n",
        "    stages=[document_assembler,\n",
        "            sentence,\n",
        "            tokenizer,\n",
        "            normalizer,\n",
        "            stopwords_cleaner, \n",
        "            stemmer, \n",
        "            finisher,\n",
        "            hashingTF,\n",
        "            idf,\n",
        "            logReg\n",
        "            ])\n",
        "\n",
        "# Pipeline for Naive Bayes with TFIDF\n",
        "nlp_pipeline_tf_nb = Pipeline(\n",
        "    stages=[document_assembler,\n",
        "            sentence,\n",
        "            tokenizer,\n",
        "            normalizer,\n",
        "            stopwords_cleaner, \n",
        "            stemmer, \n",
        "            finisher,\n",
        "            hashingTF,\n",
        "            idf,\n",
        "            naiveBayes\n",
        "            ])"
      ],
      "execution_count": 63,
      "outputs": []
    },
    {
      "cell_type": "markdown",
      "metadata": {
        "id": "YhvxqkyZk6WH"
      },
      "source": [
        "\n",
        ">> iii. Logistic Regression with TFIDF"
      ]
    },
    {
      "cell_type": "markdown",
      "metadata": {
        "id": "OvjdXiMYk6WI"
      },
      "source": [
        ">>> a. Applying LogReg"
      ]
    },
    {
      "cell_type": "code",
      "metadata": {
        "colab": {
          "base_uri": "https://localhost:8080/",
          "height": 0
        },
        "id": "a55rXBNBk6WJ",
        "outputId": "b3f3f827-bbdb-4a12-b216-88530bf45503"
      },
      "source": [
        "modelLR = nlp_pipeline_tf_lr.fit(df_train)\n",
        "pred_tf_lr = modelLR.transform(df_test)\n",
        "pred_tf_lr = pred_tf_lr.withColumn('label', pred_tf_lr.label.cast(IntegerType()))\n",
        "pred_tf_lr.filter(pred_tf_lr['prediction'] == 0)\\\n",
        "    .select(\"text\",\"probability\",\"label\",\"prediction\")\\\n",
        "    .orderBy(\"probability\", ascending=False)\\\n",
        "    .show(n = 10, truncate = 30)"
      ],
      "execution_count": 64,
      "outputs": [
        {
          "output_type": "stream",
          "text": [
            "+------------------------------+------------------------------+-----+----------+\n",
            "|                          text|                   probability|label|prediction|\n",
            "+------------------------------+------------------------------+-----+----------+\n",
            "|,\"\"Utter and complete crap ...|[0.9999980012376455,1.99876...|    0|       0.0|\n",
            "|,\"\"The title of this movie ...|[0.9999962933421801,3.70665...|    0|       0.0|\n",
            "|,\"\"Doesn't anyone else see ...|[0.9999958016955256,4.19830...|    0|       0.0|\n",
            "|,\"\"oh, the disillusionment:...|[0.9999953229921044,4.67700...|    0|       0.0|\n",
            "|,\"\"One of the worst movies ...|[0.9999952303403636,4.76965...|    0|       0.0|\n",
            "|,\"\"Terrible, just terrible:...|[0.9999945194022857,5.48059...|    0|       0.0|\n",
            "|,\"\"Beware! Send your busine...|[0.9999920135486295,7.98645...|    0|       0.0|\n",
            "|,\"\"I AGREE! LACES WAY TOO S...|[0.9999906854852427,9.31451...|    0|       0.0|\n",
            "|,\"\"Agreed: Cheap is Cheap.:...|[0.9999882527780629,1.17472...|    0|       0.0|\n",
            "|,THE WORST TENT MADE DO NOT...|[0.9999861557631216,1.38442...|    0|       0.0|\n",
            "+------------------------------+------------------------------+-----+----------+\n",
            "only showing top 10 rows\n",
            "\n"
          ],
          "name": "stdout"
        }
      ]
    },
    {
      "cell_type": "markdown",
      "metadata": {
        "id": "r5KgC2XOk6WJ"
      },
      "source": [
        ">>> b. Model Performance"
      ]
    },
    {
      "cell_type": "code",
      "metadata": {
        "colab": {
          "base_uri": "https://localhost:8080/",
          "height": 0
        },
        "id": "6bE8mBwFk6WK",
        "outputId": "0536af80-a6e4-4e6e-e16e-cab5933eb20b"
      },
      "source": [
        "# Converting pred_tf_lr to pandas data frame in order to using sklearn metrics library\n",
        "df_tf_lr = pred_tf_lr.select('text','label','prediction').toPandas()\n",
        "print(classification_report(df_tf_lr.label, df_tf_lr.prediction))\n",
        "print(accuracy_score(df_tf_lr.label, df_tf_lr.prediction))\n",
        "\n",
        "# Evaluation within the Spark Universe is also possible (for scaling issues)\n",
        "evaluator = MulticlassClassificationEvaluator(labelCol='label',predictionCol=\"prediction\")\n",
        "evaluator.evaluate(pred_tf_lr)"
      ],
      "execution_count": 65,
      "outputs": [
        {
          "output_type": "stream",
          "text": [
            "              precision    recall  f1-score   support\n",
            "\n",
            "           0       0.88      0.76      0.81      5884\n",
            "           1       0.79      0.89      0.84      5819\n",
            "\n",
            "    accuracy                           0.83     11703\n",
            "   macro avg       0.83      0.83      0.82     11703\n",
            "weighted avg       0.83      0.83      0.82     11703\n",
            "\n",
            "0.8255148252584807\n"
          ],
          "name": "stdout"
        },
        {
          "output_type": "execute_result",
          "data": {
            "text/plain": [
              "0.8247548494011212"
            ]
          },
          "metadata": {
            "tags": []
          },
          "execution_count": 65
        }
      ]
    },
    {
      "cell_type": "markdown",
      "metadata": {
        "id": "2EQI-djwk6WL"
      },
      "source": [
        "\n",
        ">> iv. Naive Bayes with TFIDF"
      ]
    },
    {
      "cell_type": "markdown",
      "metadata": {
        "id": "0MlycYByk6WL"
      },
      "source": [
        ">>> a. Applying Naive Bayes"
      ]
    },
    {
      "cell_type": "code",
      "metadata": {
        "colab": {
          "base_uri": "https://localhost:8080/",
          "height": 0
        },
        "id": "Fj4Ixqv3k6WL",
        "outputId": "e0a7006f-5f83-4796-83b4-a2764e42474f"
      },
      "source": [
        "modelNB = nlp_pipeline_tf_nb.fit(df_train)\n",
        "pred_tf_nb = modelNB.transform(df_test)\n",
        "pred_tf_nb = pred_tf_nb.withColumn('label', pred_tf_nb.label.cast(IntegerType()))\n",
        "pred_tf_nb.filter(pred_tf_nb['prediction'] == 0)\\\n",
        "    .select(\"text\",\"probability\",\"label\",\"prediction\")\\\n",
        "    .orderBy(\"probability\", ascending=False)\\\n",
        "    .show(n = 10, truncate = 30)"
      ],
      "execution_count": 66,
      "outputs": [
        {
          "output_type": "stream",
          "text": [
            "+------------------------------+----------------------------+-----+----------+\n",
            "|                          text|                 probability|label|prediction|\n",
            "+------------------------------+----------------------------+-----+----------+\n",
            "|,The Acting is more hideous...|[1.0,1.1064164592528292E-16]|    0|       0.0|\n",
            "|,\"\"No fluoride filtration!:...|[1.0,1.0957682819192777E-16]|    0|       0.0|\n",
            "|,\"\"card shuffler: The item ...| [1.0,1.078460050805894E-16]|    0|       0.0|\n",
            "|,WHY THIS PRODUCT SUCKS: Ko...|[1.0,1.0759857499599348E-16]|    0|       0.0|\n",
            "|,\"\"disappointing, did not h...|[1.0,1.0665636808230285E-16]|    0|       0.0|\n",
            "|,\"\"*not* a fountain pen ink...|[1.0,1.0599375894345088E-16]|    0|       0.0|\n",
            "|,\"\"Terrible book, title is ...|[1.0,1.0565913971050663E-16]|    0|       0.0|\n",
            "|,\"\"Doesn't perform efficien...|[1.0,1.0425050300348107E-16]|    0|       0.0|\n",
            "|,\"\"time is too scarce to sp...|[1.0,1.0408525521045969E-16]|    0|       0.0|\n",
            "|,\"\"First MiniDV and very un...|[1.0,1.0305086916766615E-16]|    0|       0.0|\n",
            "+------------------------------+----------------------------+-----+----------+\n",
            "only showing top 10 rows\n",
            "\n"
          ],
          "name": "stdout"
        }
      ]
    },
    {
      "cell_type": "markdown",
      "metadata": {
        "id": "SDcGMIhAk6WM"
      },
      "source": [
        ">>> b. Model Performance"
      ]
    },
    {
      "cell_type": "code",
      "metadata": {
        "colab": {
          "base_uri": "https://localhost:8080/",
          "height": 0
        },
        "id": "IztXIR9ok6WM",
        "outputId": "97391659-fd88-4a43-96f5-6459bb042681"
      },
      "source": [
        "# Converting pred_tf_nb to pandas data frame in order to using sklearn metrics library\n",
        "df_tf_nb = pred_tf_nb.select('text','label','prediction').toPandas()\n",
        "print(classification_report(df_lr.label, df_lr.prediction))\n",
        "print(accuracy_score(df_lr.label, df_lr.prediction))\n",
        "\n",
        "# Evaluation within the Spark Universe is also possible (for scaling issues)\n",
        "evaluator = MulticlassClassificationEvaluator(labelCol='label',predictionCol=\"prediction\")\n",
        "evaluator.evaluate(pred_tf_nb)"
      ],
      "execution_count": 67,
      "outputs": [
        {
          "output_type": "stream",
          "text": [
            "              precision    recall  f1-score   support\n",
            "\n",
            "           0       0.89      0.78      0.83      5884\n",
            "           1       0.81      0.90      0.85      5819\n",
            "\n",
            "    accuracy                           0.84     11703\n",
            "   macro avg       0.85      0.84      0.84     11703\n",
            "weighted avg       0.85      0.84      0.84     11703\n",
            "\n",
            "0.8438007348543108\n"
          ],
          "name": "stdout"
        },
        {
          "output_type": "execute_result",
          "data": {
            "text/plain": [
              "0.8024785799273807"
            ]
          },
          "metadata": {
            "tags": []
          },
          "execution_count": 67
        }
      ]
    },
    {
      "cell_type": "markdown",
      "metadata": {
        "id": "aEjzQFbU8Wu2"
      },
      "source": [
        "> ### III.  Universal Sentence Encoder"
      ]
    },
    {
      "cell_type": "markdown",
      "metadata": {
        "id": "k4qvCNvv8Wu3"
      },
      "source": [
        ">> i. Building Pipeline\n",
        "\n"
      ]
    },
    {
      "cell_type": "code",
      "metadata": {
        "colab": {
          "base_uri": "https://localhost:8080/",
          "height": 0
        },
        "id": "tXlrCAWL8Wu3",
        "outputId": "8ddd0711-29a3-46c4-c99c-802adc3759cf"
      },
      "source": [
        "%%time\n",
        "\n",
        "document = DocumentAssembler()\\\n",
        "  .setInputCol(\"text\")\\\n",
        "  .setOutputCol(\"document\")\n",
        "    \n",
        "use = UniversalSentenceEncoder.pretrained()\\\n",
        " .setInputCols([\"document\"])\\\n",
        " .setOutputCol(\"sentence_embeddings\")\n",
        "\n",
        "classsifierdl = ClassifierDLApproach()\\\n",
        "  .setInputCols([\"sentence_embeddings\"])\\\n",
        "  .setOutputCol(\"class\")\\\n",
        "  .setLabelColumn(\"label\")\\\n",
        "  .setMaxEpochs(11)\\\n",
        "  .setEnableOutputLogs(True)\n"
      ],
      "execution_count": 68,
      "outputs": [
        {
          "output_type": "stream",
          "text": [
            "tfhub_use download started this may take some time.\n",
            "Approximate size to download 923.7 MB\n",
            "[OK!]\n",
            "CPU times: user 1.11 s, sys: 148 ms, total: 1.26 s\n",
            "Wall time: 3min 6s\n"
          ],
          "name": "stdout"
        }
      ]
    },
    {
      "cell_type": "markdown",
      "metadata": {
        "id": "eCGdeeTQ8Wu3"
      },
      "source": [
        ">> ii. Forming Pipeline"
      ]
    },
    {
      "cell_type": "code",
      "metadata": {
        "id": "VmCN2GEd8Wu4"
      },
      "source": [
        "use_clf_pipeline = Pipeline(\n",
        "    stages = [\n",
        "        document,\n",
        "        use,\n",
        "        classsifierdl\n",
        "    ])"
      ],
      "execution_count": 69,
      "outputs": []
    },
    {
      "cell_type": "code",
      "metadata": {
        "colab": {
          "base_uri": "https://localhost:8080/",
          "height": 0
        },
        "id": "k7RvbIl7FRDB",
        "outputId": "cf70ca60-d38d-477e-9ba0-d93482b545e7"
      },
      "source": [
        "!cd ~/annotator_logs && ls -l"
      ],
      "execution_count": 70,
      "outputs": [
        {
          "output_type": "stream",
          "text": [
            "/bin/bash: line 0: cd: /root/annotator_logs: No such file or directory\n"
          ],
          "name": "stdout"
        }
      ]
    },
    {
      "cell_type": "markdown",
      "metadata": {
        "id": "rie1VFU08Wu4"
      },
      "source": [
        "\n",
        ">> iii. Universal Sentence Encoder with Deep Learning Approach"
      ]
    },
    {
      "cell_type": "markdown",
      "metadata": {
        "id": "_vKojr8D8Wu4"
      },
      "source": [
        ">>> a. Applying Universal Sentence Encoder with DL"
      ]
    },
    {
      "cell_type": "code",
      "metadata": {
        "colab": {
          "base_uri": "https://localhost:8080/",
          "height": 204
        },
        "id": "8JuGugAm8Wu4",
        "outputId": "aba765ae-1e26-4fd6-f809-7baa640f7698"
      },
      "source": [
        "useModel = use_clf_pipeline.fit(df_train)\n",
        "pred_use = useModel.transform(df_test)\n",
        "df_use = pred_use.select('text','label', 'class.result').toPandas()\n",
        "df_use['result'] = df_use['result'].apply(lambda x: x[0])\n",
        "df_use.head()"
      ],
      "execution_count": 71,
      "outputs": [
        {
          "output_type": "execute_result",
          "data": {
            "text/html": [
              "<div>\n",
              "<style scoped>\n",
              "    .dataframe tbody tr th:only-of-type {\n",
              "        vertical-align: middle;\n",
              "    }\n",
              "\n",
              "    .dataframe tbody tr th {\n",
              "        vertical-align: top;\n",
              "    }\n",
              "\n",
              "    .dataframe thead th {\n",
              "        text-align: right;\n",
              "    }\n",
              "</style>\n",
              "<table border=\"1\" class=\"dataframe\">\n",
              "  <thead>\n",
              "    <tr style=\"text-align: right;\">\n",
              "      <th></th>\n",
              "      <th>text</th>\n",
              "      <th>label</th>\n",
              "      <th>result</th>\n",
              "    </tr>\n",
              "  </thead>\n",
              "  <tbody>\n",
              "    <tr>\n",
              "      <th>0</th>\n",
              "      <td>,Not worth the money: Banks'book Oscilloscope ...</td>\n",
              "      <td>0</td>\n",
              "      <td>1</td>\n",
              "    </tr>\n",
              "    <tr>\n",
              "      <th>1</th>\n",
              "      <td>,\"\"I changed my mind: When I first reviewed th...</td>\n",
              "      <td>0</td>\n",
              "      <td>0</td>\n",
              "    </tr>\n",
              "    <tr>\n",
              "      <th>2</th>\n",
              "      <td>,\"\"How quickly we fail...: I was initially ent...</td>\n",
              "      <td>0</td>\n",
              "      <td>0</td>\n",
              "    </tr>\n",
              "    <tr>\n",
              "      <th>3</th>\n",
              "      <td>,DOA Did Not Power up out of the box: DOA prod...</td>\n",
              "      <td>0</td>\n",
              "      <td>0</td>\n",
              "    </tr>\n",
              "    <tr>\n",
              "      <th>4</th>\n",
              "      <td>,\"\"support: I ordered this nursing bra after l...</td>\n",
              "      <td>0</td>\n",
              "      <td>0</td>\n",
              "    </tr>\n",
              "  </tbody>\n",
              "</table>\n",
              "</div>"
            ],
            "text/plain": [
              "                                                text label result\n",
              "0  ,Not worth the money: Banks'book Oscilloscope ...     0      1\n",
              "1  ,\"\"I changed my mind: When I first reviewed th...     0      0\n",
              "2  ,\"\"How quickly we fail...: I was initially ent...     0      0\n",
              "3  ,DOA Did Not Power up out of the box: DOA prod...     0      0\n",
              "4  ,\"\"support: I ordered this nursing bra after l...     0      0"
            ]
          },
          "metadata": {
            "tags": []
          },
          "execution_count": 71
        }
      ]
    },
    {
      "cell_type": "markdown",
      "metadata": {
        "id": "KMa0rrCm8Wu4"
      },
      "source": [
        ">>> b. Model Performance"
      ]
    },
    {
      "cell_type": "code",
      "metadata": {
        "colab": {
          "base_uri": "https://localhost:8080/",
          "height": 0
        },
        "id": "bQ2vDCDg8Wu5",
        "outputId": "2609a0e3-fc66-44f6-ba21-5ee29f9e2c72"
      },
      "source": [
        "print(classification_report(df_use.label, df_use.result))\n",
        "print(accuracy_score(df_use.label, df_use.result))"
      ],
      "execution_count": 72,
      "outputs": [
        {
          "output_type": "stream",
          "text": [
            "              precision    recall  f1-score   support\n",
            "\n",
            "           0       0.87      0.86      0.86      5884\n",
            "           1       0.86      0.87      0.87      5819\n",
            "\n",
            "    accuracy                           0.87     11703\n",
            "   macro avg       0.87      0.87      0.87     11703\n",
            "weighted avg       0.87      0.87      0.87     11703\n",
            "\n",
            "0.8652482269503546\n"
          ],
          "name": "stdout"
        }
      ]
    },
    {
      "cell_type": "markdown",
      "metadata": {
        "id": "nDA-Htxfmz0g"
      },
      "source": [
        "# 3. Conclusion"
      ]
    },
    {
      "cell_type": "markdown",
      "metadata": {
        "id": "-pgkhL0h1tlc"
      },
      "source": [
        "Considering the wide application areas of NLP, building solid algorithms on a large scale is a powerful asset that strengthens the competence of companies in almost all business areas. From this perspective, I approached this simulation of ESPRIT's use case, keeping in touch with 3 pillars.\n",
        "\n",
        "The first pillar could be described as \"keeping up with the pace of NLP inferno\". In other words, I applied modern embedding techniques like \"Universal Sentence Embedding\" which use pre-trained embedding algorithms powered by Deep Learning under the hood. Not to my surprise, I got the best accuracy results using \"Universal Sentence Embedding\". But also I needed to use resources effectively and did not used alternatives like Bert Sentence Embedding (Note that for code readability reasons, no fine tuning steps are included in this notebook). \n",
        "\n",
        "The second pillar is \"simplicity\" and this is where pipelines comes into play. I built pipelines that made my code modular, digestible and also stable. My team partners could easily apply/improve my code without any additional support, which cannot be overstated.\n",
        "\n",
        "The third pillar is 'extending the horizon' which could be explained observing the wider possibilities and sharing these new horizons with my colleagues. To do so I attended the John Snow Labs NLP for Data Science workshop (live-online) and tried to apply these new visions in my case study.\n",
        "\n",
        "There is no one best model or the only possible solution to every business problem. That's why I look forward to your insight. I want to express my appreciation to have such an opportunity. \n",
        "\n",
        "Thank you for your time and see you all tomorrow!\n",
        "\n"
      ]
    },
    {
      "cell_type": "code",
      "metadata": {
        "id": "cq9y-ixB-zay"
      },
      "source": [
        ""
      ],
      "execution_count": 72,
      "outputs": []
    }
  ]
}
